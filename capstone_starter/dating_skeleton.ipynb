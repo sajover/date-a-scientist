{
 "cells": [
  {
   "cell_type": "code",
   "execution_count": 1,
   "metadata": {},
   "outputs": [],
   "source": [
    "import pandas as pd\n",
    "import numpy as np\n",
    "from matplotlib import pyplot as plt\n",
    "from sklearn import preprocessing\n",
    "from sklearn.naive_bayes import MultinomialNB\n",
    "from sklearn.model_selection import train_test_split"
   ]
  },
  {
   "cell_type": "code",
   "execution_count": 2,
   "metadata": {},
   "outputs": [],
   "source": [
    "all_data = pd.read_csv(\"profiles.csv\")"
   ]
  },
  {
   "cell_type": "code",
   "execution_count": 3,
   "metadata": {},
   "outputs": [
    {
     "data": {
      "image/png": "[encoded data removed]",
      "text/plain": [
       "<Figure size 432x288 with 1 Axes>"
      ]
     },
     "metadata": {
      "needs_background": "light"
     },
     "output_type": "display_data"
    }
   ],
   "source": [
    "fig = plt.hist(all_data.income, bins=200, color = \"#b37674\" , ec=\"#b37674\")\n",
    "plt.xlabel(\"Income\")\n",
    "plt.ylabel(\"Frecuency\")\n",
    "plt.xlim(0, 100000)\n",
    "plt.savefig(\"fig1.png\", transparent=True)\n",
    "plt.show()"
   ]
  },
  {
   "cell_type": "code",
   "execution_count": 4,
   "metadata": {},
   "outputs": [
    {
     "data": {
      "text/plain": [
       "       35561\n",
       "No     19466\n",
       "Yes     4919\n",
       "Name: offspring_cat, dtype: int64"
      ]
     },
     "execution_count": 4,
     "metadata": {},
     "output_type": "execute_result"
    }
   ],
   "source": [
    "offspring = []\n",
    "for row in all_data['offspring']:\n",
    "    if row == 'doesn&rsquo;t have kids':\n",
    "        offspring.append('No')\n",
    "    elif row == 'doesn&rsquo;t have kids, but might want them':\n",
    "        offspring.append('No')\n",
    "    elif row == 'doesn&rsquo;t have kids, but wants them':\n",
    "        offspring.append('No')\n",
    "    elif row == 'doesn&rsquo;t want kids':\n",
    "        offspring.append('No')\n",
    "    elif row == 'has kids':\n",
    "        offspring.append('Yes')\n",
    "    elif row == 'has a kid':\n",
    "        offspring.append('Yes')\n",
    "    elif row == 'doesn&rsquo;t have kids, and doesn&rsquo;t want any':\n",
    "        offspring.append('No')\n",
    "    elif row == 'has kids, but doesn&rsquo;t want more':\n",
    "        offspring.append('Yes')\n",
    "    elif row == 'has a kid, but doesn&rsquo;t want more':\n",
    "        offspring.append('Yes')\n",
    "    elif row == 'has a kid, and might want more':\n",
    "        offspring.append('Yes')\n",
    "    elif row == 'wants kids':\n",
    "        offspring.append('No')\n",
    "    elif row == 'might want kids':\n",
    "        offspring.append('No')\n",
    "    elif row == 'has kids, and might want more':\n",
    "        offspring.append('Yes')\n",
    "    elif row == 'has a kid, and wants more':\n",
    "        offspring.append('Yes')\n",
    "    elif row == 'has kids, and wants more':\n",
    "        offspring.append('Yes')\n",
    "    else:\n",
    "        offspring.append('')\n",
    "\n",
    "     \n",
    "all_data[\"offspring_cat\"]= offspring\n",
    "\n",
    "all_data[\"offspring_cat\"].value_counts()"
   ]
  },
  {
   "cell_type": "code",
   "execution_count": 5,
   "metadata": {},
   "outputs": [],
   "source": [
    "sex_mapping = {\"m\": 0, \"f\": 1}\n",
    "\n",
    "\n",
    "all_data[\"sex_code\"] = all_data.sex.map(sex_mapping)"
   ]
  },
  {
   "cell_type": "code",
   "execution_count": 6,
   "metadata": {},
   "outputs": [],
   "source": [
    "osffspring_mapping = {\"Yes\": 0, \"No\": 1}\n",
    "\n",
    "\n",
    "all_data[\"offspring_code\"] = all_data[\"offspring_cat\"].map(osffspring_mapping)"
   ]
  },
  {
   "cell_type": "code",
   "execution_count": 7,
   "metadata": {},
   "outputs": [],
   "source": [
    "drugs_mapping = {\"never\": 0, \"sometimes\": 1, \"often\": 1}\n",
    "\n",
    "\n",
    "all_data[\"drugs_code\"] = all_data.drugs.map(drugs_mapping)"
   ]
  },
  {
   "cell_type": "code",
   "execution_count": 8,
   "metadata": {},
   "outputs": [],
   "source": [
    "drink_mapping = {\"not at all\": 0, \"rarely\": 0, \"socially\": 1, \"often\": 1, \"very often\": 1, \"desperately\": 1}\n",
    "\n",
    "\n",
    "all_data[\"drinks_code\"] = all_data.drinks.map(drink_mapping)"
   ]
  },
  {
   "cell_type": "code",
   "execution_count": 9,
   "metadata": {},
   "outputs": [],
   "source": [
    "smokes_mapping = {\"no\": 0, \"sometimes\": 1, \"when drinking\": 1, \"yes\": 1, \"trying to quit\": 1}\n",
    "\n",
    "\n",
    "all_data[\"smokes_code\"] = all_data.smokes.map(smokes_mapping)"
   ]
  },
  {
   "cell_type": "code",
   "execution_count": 10,
   "metadata": {},
   "outputs": [],
   "source": [
    "job_mapping = {\"other\": 0, \"student\": 1, \"science / tech / engineering\": 2, \"computer / hardware / software\": 3, \"artistic / musical / writer\": 4, \"sales / marketing / biz dev\": 5, \"medicine / health\": 6, \"education / academia\": 7, \"executive / management\": 8, \"banking / financial / real estate\": 9, \"entertainment / media\": 10, \"law / legal services\": 11, \"hospitality / travel\": 12, \"construction / craftsmanship\": 13, \"clerical / administrative\": 14, \"political / government\": 15, \"rather not say \": 16, \"transportation\": 17, \"unemployed\": 18, \"retired\": 19, \"military\": 20}\n",
    "\n",
    "\n",
    "all_data[\"job_code\"] = all_data.job.map(job_mapping)\n"
   ]
  },
  {
   "cell_type": "code",
   "execution_count": 11,
   "metadata": {},
   "outputs": [
    {
     "data": {
      "text/plain": [
       "0.0    43896\n",
       "1.0    10538\n",
       "Name: smokes_code, dtype: int64"
      ]
     },
     "execution_count": 11,
     "metadata": {},
     "output_type": "execute_result"
    }
   ],
   "source": [
    "all_data[\"smokes_code\"].value_counts()"
   ]
  },
  {
   "cell_type": "code",
   "execution_count": 12,
   "metadata": {},
   "outputs": [
    {
     "data": {
      "text/plain": [
       "no                43896\n",
       "sometimes          3787\n",
       "when drinking      3040\n",
       "yes                2231\n",
       "trying to quit     1480\n",
       "Name: smokes, dtype: int64"
      ]
     },
     "execution_count": 12,
     "metadata": {},
     "output_type": "execute_result"
    }
   ],
   "source": [
    "all_data[\"smokes\"].value_counts()"
   ]
  },
  {
   "cell_type": "code",
   "execution_count": 13,
   "metadata": {},
   "outputs": [
    {
     "data": {
      "text/plain": [
       "remove           48442\n",
       "middle income     5150\n",
       "low income        5005\n",
       "high income       1349\n",
       "Name: income_cat, dtype: int64"
      ]
     },
     "execution_count": 13,
     "metadata": {},
     "output_type": "execute_result"
    }
   ],
   "source": [
    "income = []\n",
    "# For each row in the column,\n",
    "for row in all_data['income']:\n",
    "    # if more than a value,\n",
    "    if row > 100000:\n",
    "        income.append('high income')\n",
    "    # else, if more than a value,\n",
    "    elif row > 40000:\n",
    "        income.append('middle income')\n",
    "    # else, if more than a value,\n",
    "    elif row == -1:\n",
    "        income.append('remove')\n",
    "    # else, if more than a value,\n",
    "    else:\n",
    "        income.append('low income')\n",
    "        \n",
    "all_data[\"income_cat\"]= income\n",
    "\n",
    "all_data[\"income_cat\"].value_counts()"
   ]
  },
  {
   "cell_type": "code",
   "execution_count": 14,
   "metadata": {},
   "outputs": [],
   "source": [
    "income_mapping = {\"low income\": 0, \"middle income\": 1, \"high_income\": 2, \"remove\":3}\n",
    "\n",
    "all_data[\"income_code\"] = all_data[\"income_cat\"].map({\"low income\": 0, \"middle income\": 1, \"high income\": 2, \"remove\": 3})\n",
    "    \n"
   ]
  },
  {
   "cell_type": "code",
   "execution_count": 15,
   "metadata": {},
   "outputs": [],
   "source": [
    "#remove nan from df\n",
    "all_data = all_data.replace(np.nan, '', regex=True)\n",
    "all_data[\"smokes_code\"] = pd.to_numeric(all_data[\"smokes_code\"]).fillna(0).astype(np.int64)\n",
    "all_data[\"drugs_code\"] = pd.to_numeric(all_data[\"drugs_code\"]).fillna(0).astype(np.int64)\n",
    "all_data[\"drinks_code\"] = pd.to_numeric(all_data[\"drinks_code\"]).fillna(0).astype(np.int64)\n",
    "all_data[\"income_code\"] = pd.to_numeric(all_data[\"income_code\"]).fillna(0).astype(np.int64)\n",
    "all_data[\"offspring_code\"] = pd.to_numeric(all_data[\"offspring_code\"]).fillna(0).astype(np.int64)\n"
   ]
  },
  {
   "cell_type": "code",
   "execution_count": 16,
   "metadata": {},
   "outputs": [
    {
     "data": {
      "image/png": "[encoded data removed]",
      "text/plain": [
       "<Figure size 432x288 with 1 Axes>"
      ]
     },
     "metadata": {
      "needs_background": "light"
     },
     "output_type": "display_data"
    }
   ],
   "source": [
    "from matplotlib import pyplot as plt\n",
    "\n",
    "plt.scatter(all_data[\"offspring_code\"], all_data[\"smokes_code\"], alpha = 0.1)\n",
    "plt.xlabel(\"m/f\")\n",
    "plt.ylabel(\"takes drugs\")\n",
    "plt.show()"
   ]
  },
  {
   "cell_type": "code",
   "execution_count": 17,
   "metadata": {},
   "outputs": [
    {
     "name": "stderr",
     "output_type": "stream",
     "text": [
      "/Users/sajover/miniconda2/envs/python3.7/lib/python3.7/site-packages/ipykernel_launcher.py:4: SettingWithCopyWarning: \n",
      "A value is trying to be set on a copy of a slice from a DataFrame.\n",
      "Try using .loc[row_indexer,col_indexer] = value instead\n",
      "\n",
      "See the caveats in the documentation: http://pandas.pydata.org/pandas-docs/stable/indexing.html#indexing-view-versus-copy\n",
      "  after removing the cwd from sys.path.\n",
      "/Users/sajover/miniconda2/envs/python3.7/lib/python3.7/site-packages/ipykernel_launcher.py:5: SettingWithCopyWarning: \n",
      "A value is trying to be set on a copy of a slice from a DataFrame.\n",
      "Try using .loc[row_indexer,col_indexer] = value instead\n",
      "\n",
      "See the caveats in the documentation: http://pandas.pydata.org/pandas-docs/stable/indexing.html#indexing-view-versus-copy\n",
      "  \"\"\"\n",
      "/Users/sajover/miniconda2/envs/python3.7/lib/python3.7/site-packages/ipykernel_launcher.py:6: SettingWithCopyWarning: \n",
      "A value is trying to be set on a copy of a slice from a DataFrame.\n",
      "Try using .loc[row_indexer,col_indexer] = value instead\n",
      "\n",
      "See the caveats in the documentation: http://pandas.pydata.org/pandas-docs/stable/indexing.html#indexing-view-versus-copy\n",
      "  \n",
      "/Users/sajover/miniconda2/envs/python3.7/lib/python3.7/site-packages/ipykernel_launcher.py:7: SettingWithCopyWarning: \n",
      "A value is trying to be set on a copy of a slice from a DataFrame.\n",
      "Try using .loc[row_indexer,col_indexer] = value instead\n",
      "\n",
      "See the caveats in the documentation: http://pandas.pydata.org/pandas-docs/stable/indexing.html#indexing-view-versus-copy\n",
      "  import sys\n",
      "/Users/sajover/miniconda2/envs/python3.7/lib/python3.7/site-packages/ipykernel_launcher.py:8: SettingWithCopyWarning: \n",
      "A value is trying to be set on a copy of a slice from a DataFrame.\n",
      "Try using .loc[row_indexer,col_indexer] = value instead\n",
      "\n",
      "See the caveats in the documentation: http://pandas.pydata.org/pandas-docs/stable/indexing.html#indexing-view-versus-copy\n",
      "  \n",
      "/Users/sajover/miniconda2/envs/python3.7/lib/python3.7/site-packages/ipykernel_launcher.py:9: SettingWithCopyWarning: \n",
      "A value is trying to be set on a copy of a slice from a DataFrame.\n",
      "Try using .loc[row_indexer,col_indexer] = value instead\n",
      "\n",
      "See the caveats in the documentation: http://pandas.pydata.org/pandas-docs/stable/indexing.html#indexing-view-versus-copy\n",
      "  if __name__ == '__main__':\n",
      "/Users/sajover/miniconda2/envs/python3.7/lib/python3.7/site-packages/sklearn/utils/validation.py:475: DataConversionWarning: Data with input dtype int64 was converted to float64 by MinMaxScaler.\n",
      "  warnings.warn(msg, DataConversionWarning)\n"
     ]
    }
   ],
   "source": [
    "#normalize data\n",
    "from sklearn import preprocessing\n",
    "feature_data = all_data[['sex_code', \"offspring_code\", 'smokes_code', 'drugs_code', \"drinks_code\", \"income\", \"job_code\", \"age\", \"income_code\"]]\n",
    "feature_data[\"smokes_code\"] = pd.to_numeric(feature_data[\"smokes_code\"]).fillna(0).astype(np.int64)\n",
    "feature_data[\"drugs_code\"] = pd.to_numeric(feature_data[\"drugs_code\"]).fillna(0).astype(np.int64)\n",
    "feature_data[\"drinks_code\"] = pd.to_numeric(feature_data[\"drinks_code\"]).fillna(0).astype(np.int64)\n",
    "feature_data[\"income\"] = pd.to_numeric(feature_data[\"income\"]).fillna(0).astype(np.int64)\n",
    "feature_data[\"offspring_code\"] = pd.to_numeric(feature_data[\"offspring_code\"]).fillna(0).astype(np.int64)\n",
    "feature_data[\"job_code\"] = pd.to_numeric(feature_data[\"job_code\"]).fillna(0).astype(np.int64)\n",
    "\n",
    "feature_data = feature_data.dropna(how=\"all\")\n",
    "\n",
    "feature_data_reg = feature_data.copy()\n",
    "\n",
    "x = feature_data.values\n",
    "min_max_scaler = preprocessing.MinMaxScaler()\n",
    "x_scaled = min_max_scaler.fit_transform(x)\n",
    "\n",
    "\n",
    "feature_data = pd.DataFrame(x_scaled, columns=feature_data.columns)"
   ]
  },
  {
   "cell_type": "markdown",
   "metadata": {},
   "source": [
    "# Naive Bayes Classifier"
   ]
  },
  {
   "cell_type": "code",
   "execution_count": 68,
   "metadata": {},
   "outputs": [],
   "source": [
    "x = feature_data[['sex_code', 'drugs_code', \"smokes_code\", \"drinks_code\"]]\n",
    "y = feature_data[[\"offspring_code\"]]\n",
    "x_train, x_test, y_train, y_test = train_test_split(x, y, train_size=0.8, test_size=0.2, random_state=6)"
   ]
  },
  {
   "cell_type": "code",
   "execution_count": 69,
   "metadata": {},
   "outputs": [],
   "source": [
    "classifier_native_bayes_offspring = MultinomialNB()"
   ]
  },
  {
   "cell_type": "code",
   "execution_count": 70,
   "metadata": {},
   "outputs": [
    {
     "name": "stderr",
     "output_type": "stream",
     "text": [
      "/Users/sajover/miniconda2/envs/python3.7/lib/python3.7/site-packages/sklearn/utils/validation.py:578: DataConversionWarning: A column-vector y was passed when a 1d array was expected. Please change the shape of y to (n_samples, ), for example using ravel().\n",
      "  y = column_or_1d(y, warn=True)\n"
     ]
    },
    {
     "data": {
      "text/plain": [
       "MultinomialNB(alpha=1.0, class_prior=None, fit_prior=True)"
      ]
     },
     "execution_count": 70,
     "metadata": {},
     "output_type": "execute_result"
    }
   ],
   "source": [
    "classifier_native_bayes_offspring.fit(x_train, y_train)"
   ]
  },
  {
   "cell_type": "code",
   "execution_count": 71,
   "metadata": {},
   "outputs": [
    {
     "data": {
      "text/plain": [
       "array([0., 0., 0., ..., 0., 0., 0.])"
      ]
     },
     "execution_count": 71,
     "metadata": {},
     "output_type": "execute_result"
    }
   ],
   "source": [
    "guesses = classifier_native_bayes_offspring.predict(x_test)\n",
    "guesses"
   ]
  },
  {
   "cell_type": "code",
   "execution_count": 22,
   "metadata": {},
   "outputs": [
    {
     "data": {
      "text/plain": [
       "array([[0.68218859, 0.31781141],\n",
       "       [0.6741406 , 0.3258594 ],\n",
       "       [0.6741406 , 0.3258594 ],\n",
       "       ...,\n",
       "       [0.68218859, 0.31781141],\n",
       "       [0.67434732, 0.32565268],\n",
       "       [0.68218859, 0.31781141]])"
      ]
     },
     "execution_count": 22,
     "metadata": {},
     "output_type": "execute_result"
    }
   ],
   "source": [
    "guesses_prob = classifier_native_bayes_offspring.predict_proba(x_test)\n",
    "guesses_prob"
   ]
  },
  {
   "cell_type": "code",
   "execution_count": 23,
   "metadata": {},
   "outputs": [
    {
     "name": "stdout",
     "output_type": "stream",
     "text": [
      "0.6789824854045038\n",
      "0.0\n",
      "0.0\n",
      "0.0\n"
     ]
    },
    {
     "name": "stderr",
     "output_type": "stream",
     "text": [
      "/Users/sajover/miniconda2/envs/python3.7/lib/python3.7/site-packages/sklearn/metrics/classification.py:1135: UndefinedMetricWarning: Precision is ill-defined and being set to 0.0 due to no predicted samples.\n",
      "  'precision', 'predicted', average, warn_for)\n",
      "/Users/sajover/miniconda2/envs/python3.7/lib/python3.7/site-packages/sklearn/metrics/classification.py:1135: UndefinedMetricWarning: F-score is ill-defined and being set to 0.0 due to no predicted samples.\n",
      "  'precision', 'predicted', average, warn_for)\n"
     ]
    }
   ],
   "source": [
    "from sklearn.metrics import accuracy_score, recall_score, precision_score, f1_score\n",
    "print(accuracy_score(y_test, guesses))\n",
    "print(recall_score(y_test, guesses))\n",
    "print(precision_score(y_test, guesses))\n",
    "print(f1_score(y_test, guesses))"
   ]
  },
  {
   "cell_type": "code",
   "execution_count": 24,
   "metadata": {},
   "outputs": [
    {
     "name": "stdout",
     "output_type": "stream",
     "text": [
      "[[8141    0]\n",
      " [3849    0]]\n"
     ]
    }
   ],
   "source": [
    "from sklearn.metrics import confusion_matrix\n",
    "\n",
    "print(confusion_matrix(y_test, guesses))"
   ]
  },
  {
   "cell_type": "code",
   "execution_count": 25,
   "metadata": {},
   "outputs": [],
   "source": [
    "# now I want to test Naives Bayes with the question of whether I can predict if a person drinks knowing the sex, and whether takes drugs or smokes."
   ]
  },
  {
   "cell_type": "code",
   "execution_count": 26,
   "metadata": {},
   "outputs": [],
   "source": [
    "x = feature_data[['sex_code', 'drugs_code', \"smokes_code\"]]\n",
    "y = feature_data[[\"drinks_code\"]]\n",
    "\n",
    "x_train, x_test, y_train, y_test = train_test_split(x, y, train_size = 0.8, test_size = 0.2, random_state=6)"
   ]
  },
  {
   "cell_type": "code",
   "execution_count": 27,
   "metadata": {},
   "outputs": [],
   "source": [
    "classifier = MultinomialNB()"
   ]
  },
  {
   "cell_type": "code",
   "execution_count": 28,
   "metadata": {},
   "outputs": [
    {
     "name": "stderr",
     "output_type": "stream",
     "text": [
      "/Users/sajover/miniconda2/envs/python3.7/lib/python3.7/site-packages/sklearn/utils/validation.py:578: DataConversionWarning: A column-vector y was passed when a 1d array was expected. Please change the shape of y to (n_samples, ), for example using ravel().\n",
      "  y = column_or_1d(y, warn=True)\n"
     ]
    },
    {
     "data": {
      "text/plain": [
       "MultinomialNB(alpha=1.0, class_prior=None, fit_prior=True)"
      ]
     },
     "execution_count": 28,
     "metadata": {},
     "output_type": "execute_result"
    }
   ],
   "source": [
    "classifier.fit(x_train, y_train)"
   ]
  },
  {
   "cell_type": "code",
   "execution_count": 29,
   "metadata": {},
   "outputs": [
    {
     "name": "stdout",
     "output_type": "stream",
     "text": [
      "0.7987489574645538\n"
     ]
    }
   ],
   "source": [
    "print(classifier.score(x_test, y_test))"
   ]
  },
  {
   "cell_type": "code",
   "execution_count": 30,
   "metadata": {},
   "outputs": [
    {
     "name": "stdout",
     "output_type": "stream",
     "text": [
      "[1. 1. 1. ... 1. 1. 1.]\n"
     ]
    }
   ],
   "source": [
    "# Returns a list of predicted classes - one prediction for every data point\n",
    "guesses = classifier.predict(x_test)\n",
    "print(guesses)\n"
   ]
  },
  {
   "cell_type": "code",
   "execution_count": 31,
   "metadata": {},
   "outputs": [
    {
     "name": "stdout",
     "output_type": "stream",
     "text": [
      "0.7987489574645538\n",
      "1.0\n",
      "0.7987489574645538\n",
      "0.8881161033059768\n"
     ]
    }
   ],
   "source": [
    "from sklearn.metrics import accuracy_score, recall_score, precision_score, f1_score\n",
    "\n",
    "print(accuracy_score(y_test, guesses))\n",
    "print(recall_score(y_test, guesses))\n",
    "print(precision_score(y_test, guesses))\n",
    "print(f1_score(y_test, guesses))"
   ]
  },
  {
   "cell_type": "code",
   "execution_count": 32,
   "metadata": {},
   "outputs": [
    {
     "name": "stdout",
     "output_type": "stream",
     "text": [
      "[[   0 2413]\n",
      " [   0 9577]]\n"
     ]
    }
   ],
   "source": [
    "from sklearn.metrics import confusion_matrix\n",
    "\n",
    "print(confusion_matrix(y_test, guesses))"
   ]
  },
  {
   "cell_type": "markdown",
   "metadata": {},
   "source": [
    "# KNeighbors"
   ]
  },
  {
   "cell_type": "code",
   "execution_count": 33,
   "metadata": {},
   "outputs": [],
   "source": [
    "from sklearn.neighbors import KNeighborsClassifier"
   ]
  },
  {
   "cell_type": "code",
   "execution_count": 34,
   "metadata": {},
   "outputs": [],
   "source": [
    "x = feature_data[['sex_code', 'drugs_code', \"smokes_code\", \"drinks_code\"]]\n",
    "y = feature_data[[\"offspring_code\"]]\n",
    "\n",
    "x_train, x_test, y_train, y_test = train_test_split(x, y, train_size=0.8, test_size=0.2, random_state=6)"
   ]
  },
  {
   "cell_type": "code",
   "execution_count": 35,
   "metadata": {},
   "outputs": [],
   "source": [
    "classifier_kn = KNeighborsClassifier(n_neighbors = 4)"
   ]
  },
  {
   "cell_type": "code",
   "execution_count": 36,
   "metadata": {},
   "outputs": [
    {
     "name": "stderr",
     "output_type": "stream",
     "text": [
      "/Users/sajover/miniconda2/envs/python3.7/lib/python3.7/site-packages/ipykernel_launcher.py:1: DataConversionWarning: A column-vector y was passed when a 1d array was expected. Please change the shape of y to (n_samples, ), for example using ravel().\n",
      "  \"\"\"Entry point for launching an IPython kernel.\n"
     ]
    },
    {
     "data": {
      "text/plain": [
       "KNeighborsClassifier(algorithm='auto', leaf_size=30, metric='minkowski',\n",
       "           metric_params=None, n_jobs=1, n_neighbors=4, p=2,\n",
       "           weights='uniform')"
      ]
     },
     "execution_count": 36,
     "metadata": {},
     "output_type": "execute_result"
    }
   ],
   "source": [
    "classifier_kn.fit(x_train, y_train)"
   ]
  },
  {
   "cell_type": "code",
   "execution_count": 37,
   "metadata": {},
   "outputs": [],
   "source": [
    "guesses = classifier_kn.predict(x_test)"
   ]
  },
  {
   "cell_type": "code",
   "execution_count": 38,
   "metadata": {},
   "outputs": [
    {
     "data": {
      "text/plain": [
       "array([[1., 0.],\n",
       "       [1., 0.],\n",
       "       [1., 0.],\n",
       "       ...,\n",
       "       [1., 0.],\n",
       "       [0., 1.],\n",
       "       [1., 0.]])"
      ]
     },
     "execution_count": 38,
     "metadata": {},
     "output_type": "execute_result"
    }
   ],
   "source": [
    "guesses_prob = classifier_kn.predict_proba(x_test)\n",
    "guesses_prob"
   ]
  },
  {
   "cell_type": "code",
   "execution_count": 39,
   "metadata": {},
   "outputs": [
    {
     "name": "stdout",
     "output_type": "stream",
     "text": [
      "0.6351125938281902\n",
      "0.09405040270200052\n",
      "0.2896\n",
      "0.1419886252206315\n"
     ]
    }
   ],
   "source": [
    "print(accuracy_score(y_test, guesses))\n",
    "print(recall_score(y_test, guesses))\n",
    "print(precision_score(y_test, guesses))\n",
    "print(f1_score(y_test, guesses))"
   ]
  },
  {
   "cell_type": "code",
   "execution_count": 40,
   "metadata": {},
   "outputs": [
    {
     "name": "stdout",
     "output_type": "stream",
     "text": [
      "[[7253  888]\n",
      " [3487  362]]\n"
     ]
    }
   ],
   "source": [
    "from sklearn.metrics import confusion_matrix\n",
    "\n",
    "print(confusion_matrix(y_test, guesses))"
   ]
  },
  {
   "cell_type": "code",
   "execution_count": 41,
   "metadata": {},
   "outputs": [
    {
     "name": "stderr",
     "output_type": "stream",
     "text": [
      "/Users/sajover/miniconda2/envs/python3.7/lib/python3.7/site-packages/ipykernel_launcher.py:5: DataConversionWarning: A column-vector y was passed when a 1d array was expected. Please change the shape of y to (n_samples, ), for example using ravel().\n",
      "  \"\"\"\n"
     ]
    }
   ],
   "source": [
    "accuracies_1 = []\n",
    "\n",
    "for k in range(1,11):\n",
    "  classifier_kn = KNeighborsClassifier(n_neighbors =k)\n",
    "  classifier_kn.fit(x_train, y_train)\n",
    "  accuracies_1.append(classifier_kn.score(x_test, y_test))\n",
    "  \n"
   ]
  },
  {
   "cell_type": "code",
   "execution_count": 42,
   "metadata": {},
   "outputs": [
    {
     "data": {
      "image/png": "[encoded data removed]",
      "text/plain": [
       "<Figure size 432x288 with 1 Axes>"
      ]
     },
     "metadata": {
      "needs_background": "light"
     },
     "output_type": "display_data"
    }
   ],
   "source": [
    "import matplotlib.pyplot as plt\n",
    "\n",
    "k_list = range(1,11)\n",
    "\n",
    "plt.plot(k_list, accuracies_1, color = \"#b37674\")\n",
    "\n",
    "plt.xlabel(\"k\")\n",
    "plt.ylabel(\"Validation Accuracy\")\n",
    "plt.title(\" Classifier Accuracy\")\n",
    "plt.savefig(\"fig1.png\", transparent=True)\n",
    "plt.show()"
   ]
  },
  {
   "cell_type": "code",
   "execution_count": 43,
   "metadata": {},
   "outputs": [],
   "source": [
    "# now I want to test KNeighbours with the question of whether I can predict if a person drinks knowing the sex, and whether takes drugs or smokes."
   ]
  },
  {
   "cell_type": "code",
   "execution_count": 44,
   "metadata": {},
   "outputs": [],
   "source": [
    "x = feature_data[['sex_code', 'drugs_code', \"smokes_code\"]]\n",
    "y = (feature_data['drinks_code'])\n",
    "\n",
    "x_train, x_test, y_train, y_test = train_test_split(x, y, train_size=0.8, test_size=0.2, random_state=6)"
   ]
  },
  {
   "cell_type": "code",
   "execution_count": 45,
   "metadata": {},
   "outputs": [],
   "source": [
    "classifier_kn_drinks = KNeighborsClassifier(n_neighbors = 3)"
   ]
  },
  {
   "cell_type": "code",
   "execution_count": 46,
   "metadata": {},
   "outputs": [],
   "source": [
    "accuracies_2 = []\n",
    "\n",
    "for k in range(1,10):\n",
    "  classifier_kn_drinks = KNeighborsClassifier(n_neighbors =k)\n",
    "  classifier_kn_drinks.fit(x_train, y_train)\n",
    "  accuracies_2.append(classifier_kn_drinks.score(x_test, y_test))\n",
    "  "
   ]
  },
  {
   "cell_type": "code",
   "execution_count": 47,
   "metadata": {},
   "outputs": [
    {
     "data": {
      "image/png": "[encoded data removed]",
      "text/plain": [
       "<Figure size 432x288 with 1 Axes>"
      ]
     },
     "metadata": {
      "needs_background": "light"
     },
     "output_type": "display_data"
    }
   ],
   "source": [
    "import matplotlib.pyplot as plt\n",
    "\n",
    "k_list = range(1,10)\n",
    "\n",
    "plt.plot(k_list, accuracies_2, color = \"#b37674\")\n",
    "\n",
    "plt.xlabel(\"k\")\n",
    "plt.ylabel(\"Validation Accuracy\")\n",
    "plt.title(\" Classifier Accuracy\")\n",
    "plt.savefig(\"fig2.png\", transparent=True)\n",
    "plt.show()"
   ]
  },
  {
   "cell_type": "code",
   "execution_count": 48,
   "metadata": {},
   "outputs": [
    {
     "data": {
      "text/plain": [
       "KNeighborsClassifier(algorithm='auto', leaf_size=30, metric='minkowski',\n",
       "           metric_params=None, n_jobs=1, n_neighbors=9, p=2,\n",
       "           weights='uniform')"
      ]
     },
     "execution_count": 48,
     "metadata": {},
     "output_type": "execute_result"
    }
   ],
   "source": [
    "classifier_kn_drinks.fit(x_train, y_train)"
   ]
  },
  {
   "cell_type": "code",
   "execution_count": 49,
   "metadata": {},
   "outputs": [
    {
     "name": "stdout",
     "output_type": "stream",
     "text": [
      "0.7987489574645538\n"
     ]
    }
   ],
   "source": [
    "print(classifier_kn_drinks.score(x_test, y_test))"
   ]
  },
  {
   "cell_type": "code",
   "execution_count": 50,
   "metadata": {},
   "outputs": [
    {
     "name": "stdout",
     "output_type": "stream",
     "text": [
      "[1. 1. 1. ... 1. 1. 1.]\n"
     ]
    }
   ],
   "source": [
    "guesses = classifier_kn_drinks.predict(x_test)\n",
    "print(guesses)"
   ]
  },
  {
   "cell_type": "code",
   "execution_count": 51,
   "metadata": {},
   "outputs": [
    {
     "data": {
      "text/plain": [
       "array([[0.22222222, 0.77777778],\n",
       "       [0.22222222, 0.77777778],\n",
       "       [0.22222222, 0.77777778],\n",
       "       ...,\n",
       "       [0.22222222, 0.77777778],\n",
       "       [0.22222222, 0.77777778],\n",
       "       [0.22222222, 0.77777778]])"
      ]
     },
     "execution_count": 51,
     "metadata": {},
     "output_type": "execute_result"
    }
   ],
   "source": [
    "guesses_prob = classifier_kn_drinks.predict_proba(x_test)\n",
    "guesses_prob"
   ]
  },
  {
   "cell_type": "code",
   "execution_count": 52,
   "metadata": {},
   "outputs": [
    {
     "name": "stdout",
     "output_type": "stream",
     "text": [
      "0.7987489574645538\n",
      "1.0\n",
      "0.7987489574645538\n",
      "0.8881161033059768\n"
     ]
    }
   ],
   "source": [
    "print(accuracy_score(y_test, guesses))\n",
    "print(recall_score(y_test, guesses))\n",
    "print(precision_score(y_test, guesses))\n",
    "print(f1_score(y_test, guesses))"
   ]
  },
  {
   "cell_type": "code",
   "execution_count": 53,
   "metadata": {},
   "outputs": [
    {
     "name": "stdout",
     "output_type": "stream",
     "text": [
      "[[   0 2413]\n",
      " [   0 9577]]\n"
     ]
    }
   ],
   "source": [
    "from sklearn.metrics import confusion_matrix\n",
    "\n",
    "print(confusion_matrix(y_test, guesses))"
   ]
  },
  {
   "cell_type": "markdown",
   "metadata": {},
   "source": [
    " # K-Nearest Neighbor Regressor"
   ]
  },
  {
   "cell_type": "code",
   "execution_count": 72,
   "metadata": {},
   "outputs": [],
   "source": [
    "x = feature_data_reg[['sex_code', 'smokes_code', 'drugs_code', \"drinks_code\", \"offspring_code\", \"job_code\"]]\n",
    "y = feature_data_reg[['income']]\n",
    "\n",
    "x_train_kr, x_test_kr, y_train_kr, y_test_kr = train_test_split(x, y, train_size = 0.8, test_size = 0.2, random_state=6)"
   ]
  },
  {
   "cell_type": "code",
   "execution_count": 73,
   "metadata": {},
   "outputs": [],
   "source": [
    "from sklearn.neighbors import KNeighborsRegressor\n",
    "regressor = KNeighborsRegressor(n_neighbors = 3, weights = \"distance\")\n",
    "regressor.fit(x_train_kr, y_train_kr)\n",
    "guesses = regressor.predict(x_test_kr)"
   ]
  },
  {
   "cell_type": "code",
   "execution_count": 74,
   "metadata": {},
   "outputs": [
    {
     "data": {
      "text/plain": [
       "array([[-1.00000000e+00],\n",
       "       [ 6.66600000e+03],\n",
       "       [-1.00000000e+00],\n",
       "       ...,\n",
       "       [-1.00000000e+00],\n",
       "       [-1.00000000e+00],\n",
       "       [ 3.33326667e+04]])"
      ]
     },
     "execution_count": 74,
     "metadata": {},
     "output_type": "execute_result"
    }
   ],
   "source": [
    "guesses"
   ]
  },
  {
   "cell_type": "code",
   "execution_count": 75,
   "metadata": {},
   "outputs": [
    {
     "name": "stdout",
     "output_type": "stream",
     "text": [
      "-0.332735518029601\n"
     ]
    }
   ],
   "source": [
    "print(regressor.score(x_test_kr, y_test_kr))"
   ]
  },
  {
   "cell_type": "markdown",
   "metadata": {},
   "source": [
    "# Multiple Regression"
   ]
  },
  {
   "cell_type": "code",
   "execution_count": 59,
   "metadata": {},
   "outputs": [],
   "source": [
    "x = feature_data_reg[['sex_code', 'smokes_code', 'drugs_code', \"drinks_code\", \"offspring_code\", \"job_code\", \"age\"]]\n",
    "y = feature_data_reg[['income']]\n",
    "\n",
    "x_train_mr, x_test_mr, y_train_mr, y_test_mr = train_test_split(x, y, train_size = 0.8, test_size = 0.2, random_state=6)"
   ]
  },
  {
   "cell_type": "code",
   "execution_count": 60,
   "metadata": {},
   "outputs": [],
   "source": [
    "from sklearn.linear_model import LinearRegression"
   ]
  },
  {
   "cell_type": "code",
   "execution_count": 61,
   "metadata": {},
   "outputs": [
    {
     "name": "stderr",
     "output_type": "stream",
     "text": [
      "/Users/sajover/miniconda2/envs/python3.7/lib/python3.7/site-packages/sklearn/linear_model/base.py:509: RuntimeWarning: internal gelsd driver lwork query error, required iwork dimension not returned. This is likely the result of LAPACK bug 0038, fixed in LAPACK 3.2.2 (released July 21, 2010). Falling back to 'gelss' driver.\n",
      "  linalg.lstsq(X, y)\n"
     ]
    },
    {
     "data": {
      "text/plain": [
       "LinearRegression(copy_X=True, fit_intercept=True, n_jobs=1, normalize=False)"
      ]
     },
     "execution_count": 61,
     "metadata": {},
     "output_type": "execute_result"
    }
   ],
   "source": [
    "mlr = LinearRegression()\n",
    "\n",
    "mlr.fit(x_train_mr, y_train_mr) "
   ]
  },
  {
   "cell_type": "code",
   "execution_count": 62,
   "metadata": {},
   "outputs": [],
   "source": [
    "y_predicted = mlr.predict(x_test_mr)"
   ]
  },
  {
   "cell_type": "code",
   "execution_count": 63,
   "metadata": {},
   "outputs": [
    {
     "name": "stdout",
     "output_type": "stream",
     "text": [
      "[[18187.11610806]\n",
      " [ 2567.3284274 ]\n",
      " [ 5593.47210163]\n",
      " ...\n",
      " [18547.57772629]\n",
      " [16612.27583685]\n",
      " [20221.99033215]]\n"
     ]
    }
   ],
   "source": [
    "print(y_predicted)"
   ]
  },
  {
   "cell_type": "code",
   "execution_count": 64,
   "metadata": {},
   "outputs": [
    {
     "name": "stdout",
     "output_type": "stream",
     "text": [
      "[[-14898.86444419   5076.96823372  15089.67364666    853.91703475\n",
      "    3133.11377861    978.67608989     90.11540456]]\n"
     ]
    }
   ],
   "source": [
    "print(mlr.coef_)"
   ]
  },
  {
   "cell_type": "code",
   "execution_count": 65,
   "metadata": {},
   "outputs": [
    {
     "name": "stdout",
     "output_type": "stream",
     "text": [
      "0.01212734203155197\n",
      "0.011036262968065369\n"
     ]
    }
   ],
   "source": [
    "print(mlr.score(x_train_mr, y_train_mr))\n",
    "\n",
    "print(mlr.score(x_test_mr,y_test_mr))"
   ]
  },
  {
   "cell_type": "code",
   "execution_count": null,
   "metadata": {},
   "outputs": [],
   "source": []
  }
 ],
 "metadata": {
  "kernelspec": {
   "display_name": "Python 3",
   "language": "python",
   "name": "python3"
  },
  "language_info": {
   "codemirror_mode": {
    "name": "ipython",
    "version": 3
   },
   "file_extension": ".py",
   "mimetype": "text/x-python",
   "name": "python",
   "nbconvert_exporter": "python",
   "pygments_lexer": "ipython3",
   "version": "3.7.2"
  }
 },
 "nbformat": 4,
 "nbformat_minor": 2
}
